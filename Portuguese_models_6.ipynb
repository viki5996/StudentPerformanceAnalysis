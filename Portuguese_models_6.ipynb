{
 "cells": [
  {
   "cell_type": "code",
   "execution_count": 1,
   "metadata": {},
   "outputs": [
    {
     "name": "stderr",
     "output_type": "stream",
     "text": [
      "Using TensorFlow backend.\n"
     ]
    }
   ],
   "source": [
    "import numpy as np\n",
    "import pandas as pd\n",
    "from sklearn import preprocessing\n",
    "from tensorflow import keras\n",
    "import matplotlib.pyplot as plt\n",
    "from keras.models import Sequential\n",
    "from keras import optimizers\n",
    "import keras.utils as ker\n",
    "import numpy as np\n",
    "from sklearn.model_selection import train_test_split\n",
    "from sklearn.linear_model import LogisticRegression\n",
    "from keras.models import Sequential\n",
    "from keras.layers import Dense, InputLayer, Flatten, Dropout\n",
    "import tensorflow as tf\n",
    "from sklearn.metrics import classification_report, confusion_matrix, accuracy_score, roc_auc_score, roc_curve, precision_score, recall_score, accuracy_score, f1_score\n",
    "from sklearn.tree import DecisionTreeClassifier\n",
    "from sklearn.model_selection import GridSearchCV\n",
    "from sklearn.ensemble import RandomForestClassifier\n",
    "from sklearn.svm import LinearSVC, SVC\n",
    "from sklearn.utils import resample"
   ]
  },
  {
   "cell_type": "code",
   "execution_count": 2,
   "metadata": {},
   "outputs": [],
   "source": [
    "## Read data from csv file 'student-por.csv'\n",
    "por_data = pd.read_csv('encoded_por_data.csv')"
   ]
  },
  {
   "cell_type": "code",
   "execution_count": 3,
   "metadata": {},
   "outputs": [],
   "source": [
    "## Encoding Schools \n",
    "list_of_schools = []\n",
    "for i in por_data['school']:\n",
    "    if i == 'GP':\n",
    "        school = 1\n",
    "    else:\n",
    "        school = 0\n",
    "    list_of_schools.append(school)\n",
    "\n",
    "por_data['school'] = list_of_schools"
   ]
  },
  {
   "cell_type": "code",
   "execution_count": 4,
   "metadata": {},
   "outputs": [],
   "source": [
    "## One-hot encoding binary variables. \n",
    "school_one_hot = ker.to_categorical(por_data['school']).tolist()\n",
    "sex_one_hot = ker.to_categorical(por_data['sex']).tolist()\n",
    "address_one_hot = ker.to_categorical(por_data['address']).tolist()\n",
    "pstatus_one_hot = ker.to_categorical(por_data['Pstatus']).tolist()\n",
    "fedu_one_hot = ker.to_categorical(por_data['Fedu']).tolist()\n",
    "medu_one_hot = ker.to_categorical(por_data['Medu']).tolist()\n",
    "schoolsup_one_hot = ker.to_categorical(por_data['schoolsup']).tolist()\n",
    "famsup_one_hot = ker.to_categorical(por_data['famsup']).tolist()\n",
    "paid_one_hot = ker.to_categorical(por_data['paid']).tolist()\n",
    "activities_one_hot = ker.to_categorical(por_data['activities']).tolist()\n",
    "nursery_one_hot = ker.to_categorical(por_data['nursery']).tolist()\n",
    "higher_one_hot = ker.to_categorical(por_data['higher']).tolist()\n",
    "internet_one_hot = ker.to_categorical(por_data['internet']).tolist()\n",
    "romantic_one_hot = ker.to_categorical(por_data['romantic']).tolist()\n",
    "\n",
    "## Adding one-hot vectors to df\n",
    "por_data['school_one_hot'] = school_one_hot\n",
    "por_data['sex_one_hot'] = sex_one_hot\n",
    "por_data['address_one_hot'] = address_one_hot\n",
    "por_data['pstatus_one_hot'] = pstatus_one_hot\n",
    "por_data['fedu_one_hot'] = fedu_one_hot\n",
    "por_data['medu_one_hot'] = medu_one_hot\n",
    "por_data['schoolsup_one_hot'] = schoolsup_one_hot\n",
    "por_data['famsup_one_hot'] = famsup_one_hot\n",
    "por_data['paid_one_hot'] = paid_one_hot\n",
    "por_data['activities_one_hot'] = activities_one_hot\n",
    "por_data['nursery_one_hot'] = nursery_one_hot\n",
    "por_data['higher_one_hot'] = higher_one_hot\n",
    "por_data['internet_one_hot'] = internet_one_hot\n",
    "por_data['romantic_one_hot'] = romantic_one_hot"
   ]
  },
  {
   "cell_type": "code",
   "execution_count": 5,
   "metadata": {},
   "outputs": [],
   "source": [
    "# Creating a new binary variable - 1 if student failed first grading period\n",
    "previous_grade_list = []\n",
    "for i in por_data['P1']:\n",
    "    if i < 9.5: # Fail\n",
    "        label = 1\n",
    "    else: # Pass\n",
    "        label = 0\n",
    "    previous_grade_list.append(label)\n",
    "por_data['previous_pass_fail'] = previous_grade_list"
   ]
  },
  {
   "cell_type": "code",
   "execution_count": 6,
   "metadata": {},
   "outputs": [],
   "source": [
    "## Creating labels - Pass(0) or Fail(1)\n",
    "list_of_labels = []\n",
    "for i in por_data['P3']:\n",
    "    if i < 9.5: # Fail\n",
    "        label = 1\n",
    "    else: # Pass\n",
    "        label = 0\n",
    "    list_of_labels.append(label)\n",
    "por_data['label'] = list_of_labels"
   ]
  },
  {
   "cell_type": "code",
   "execution_count": 7,
   "metadata": {},
   "outputs": [
    {
     "data": {
      "text/plain": [
       "0    549\n",
       "1    100\n",
       "Name: label, dtype: int64"
      ]
     },
     "execution_count": 7,
     "metadata": {},
     "output_type": "execute_result"
    }
   ],
   "source": [
    "por_data['label'].value_counts()"
   ]
  },
  {
   "cell_type": "code",
   "execution_count": 8,
   "metadata": {},
   "outputs": [
    {
     "data": {
      "text/plain": [
       "1    549\n",
       "0    549\n",
       "Name: label, dtype: int64"
      ]
     },
     "execution_count": 8,
     "metadata": {},
     "output_type": "execute_result"
    }
   ],
   "source": [
    "## Upsample the minority class to deal with the skewed dataset. \n",
    "por_data_maj = por_data[por_data['label']==0]\n",
    "por_data_min = por_data[por_data['label']==1]\n",
    "por_data_min_upsampled = resample(por_data_min, replace=True, n_samples=549)    \n",
    "por_data_balanced = pd.concat([por_data_maj, por_data_min_upsampled])\n",
    "por_data_balanced['label'].value_counts()"
   ]
  },
  {
   "cell_type": "code",
   "execution_count": 9,
   "metadata": {},
   "outputs": [],
   "source": [
    "por_data_balanced = por_data_balanced.reset_index(drop=True)\n",
    "balanced_por_data = por_data_balanced.drop(por_data_balanced.columns[[0]], axis=1)"
   ]
  },
  {
   "cell_type": "code",
   "execution_count": 10,
   "metadata": {},
   "outputs": [],
   "source": [
    "## Creating input vector (X)\n",
    "X = []\n",
    "for i in range(0, len(balanced_por_data)):\n",
    "    x = []\n",
    "#    x.append(balanced_por_data['age'][i])\n",
    "    x.append(balanced_por_data['Medu'][i])\n",
    "    x.append(balanced_por_data['Fedu'][i])\n",
    "#    x.append(balanced_por_data['both_parents_college'][i])\n",
    "#    x.append(balanced_por_data['studytime'][i])\n",
    "#    x.append(balanced_por_data['famrel'][i])\n",
    "#    x.append(balanced_por_data['freetime'][i])\n",
    "    x.append(balanced_por_data['goout'][i])\n",
    "    x.append(balanced_por_data['Dalc'][i])\n",
    "    x.append(balanced_por_data['Walc'][i])\n",
    "#    x.append(balanced_por_data['health'][i])\n",
    "#    x.append(balanced_por_data['m_absences'][i])\n",
    "    x.append(balanced_por_data['failures'][i])\n",
    "    \n",
    "#    x.extend(balanced_por_data['sex_one_hot'][i])\n",
    "#    x.extend(balanced_por_data['address_one_hot'][i])\n",
    "#    x.extend(balanced_por_data['pstatus_one_hot'][i])\n",
    "#    x.extend(balanced_por_data['schoolsup_one_hot'][i])\n",
    "#    x.extend(balanced_por_data['famsup_one_hot'][i])\n",
    "    x.extend(balanced_por_data['paid_one_hot'][i])\n",
    "#    x.extend(balanced_por_data['activities_one_hot'][i])\n",
    "#    x.extend(balanced_por_data['nursery_one_hot'][i])\n",
    "#    x.extend(balanced_por_data['school_one_hot'][i])\n",
    "    x.extend(balanced_por_data['higher_one_hot'][i])\n",
    "    x.extend(balanced_por_data['internet_one_hot'][i])\n",
    "    x.extend(balanced_por_data['romantic_one_hot'][i])\n",
    "    x.append(balanced_por_data['previous_pass_fail'][i])\n",
    "    x.append(balanced_por_data['P1'][i])\n",
    "    X.append(x)"
   ]
  },
  {
   "cell_type": "code",
   "execution_count": 11,
   "metadata": {},
   "outputs": [],
   "source": [
    "Y = np.array(balanced_por_data['label'])\n",
    "X = np.array(X)"
   ]
  },
  {
   "cell_type": "code",
   "execution_count": 41,
   "metadata": {},
   "outputs": [],
   "source": [
    "## split dataset into train-test.\n",
    "X_train, X_test, y_train, y_test = train_test_split(X, Y, test_size=0.25, stratify=Y)"
   ]
  },
  {
   "cell_type": "code",
   "execution_count": 22,
   "metadata": {},
   "outputs": [
    {
     "name": "stdout",
     "output_type": "stream",
     "text": [
      "Model: \"sequential_2\"\n",
      "_________________________________________________________________\n",
      "Layer (type)                 Output Shape              Param #   \n",
      "=================================================================\n",
      "dense_6 (Dense)              (None, 128)               2176      \n",
      "_________________________________________________________________\n",
      "dense_7 (Dense)              (None, 128)               16512     \n",
      "_________________________________________________________________\n",
      "dense_8 (Dense)              (None, 1)                 129       \n",
      "=================================================================\n",
      "Total params: 18,817\n",
      "Trainable params: 18,817\n",
      "Non-trainable params: 0\n",
      "_________________________________________________________________\n",
      "Train on 658 samples, validate on 165 samples\n",
      "Epoch 1/36\n",
      "658/658 [==============================] - 1s 2ms/sample - loss: 0.4472 - val_loss: 0.3657\n",
      "Epoch 2/36\n",
      "658/658 [==============================] - 1s 2ms/sample - loss: 0.3166 - val_loss: 0.3488\n",
      "Epoch 3/36\n",
      " 53/658 [=>............................] - ETA: 1s - loss: 0.2759"
     ]
    },
    {
     "name": "stderr",
     "output_type": "stream",
     "text": [
      "ERROR:root:Internal Python error in the inspect module.\n",
      "Below is the traceback from this internal error.\n",
      "\n"
     ]
    },
    {
     "name": "stdout",
     "output_type": "stream",
     "text": [
      "Traceback (most recent call last):\n",
      "  File \"/opt/conda/lib/python3.7/site-packages/IPython/core/interactiveshell.py\", line 3326, in run_code\n",
      "    exec(code_obj, self.user_global_ns, self.user_ns)\n",
      "  File \"<ipython-input-22-ce763311a399>\", line 10, in <module>\n",
      "    model.fit(X_train, y_train, epochs=36, batch_size=1, validation_split=0.2)\n",
      "  File \"/opt/conda/lib/python3.7/site-packages/tensorflow_core/python/keras/engine/training.py\", line 703, in fit\n",
      "    use_multiprocessing=use_multiprocessing)\n",
      "  File \"/opt/conda/lib/python3.7/site-packages/tensorflow_core/python/keras/engine/training_arrays.py\", line 669, in fit\n",
      "    steps_name='steps_per_epoch')\n",
      "  File \"/opt/conda/lib/python3.7/site-packages/tensorflow_core/python/keras/engine/training_arrays.py\", line 388, in model_iteration\n",
      "    batch_outs = f(ins_batch)\n",
      "  File \"/opt/conda/lib/python3.7/site-packages/tensorflow_core/python/keras/backend.py\", line 3356, in __call__\n",
      "    return nest.map_structure(self._eval_if_composite, output_structure)\n",
      "  File \"/opt/conda/lib/python3.7/site-packages/tensorflow_core/python/util/nest.py\", line 524, in map_structure\n",
      "    structure[0], [func(*x) for x in entries],\n",
      "  File \"/opt/conda/lib/python3.7/site-packages/tensorflow_core/python/util/nest.py\", line 524, in <listcomp>\n",
      "    structure[0], [func(*x) for x in entries],\n",
      "  File \"/opt/conda/lib/python3.7/site-packages/tensorflow_core/python/keras/backend.py\", line 3301, in _eval_if_composite\n",
      "    if isinstance(tensor, composite_tensor.CompositeTensor):\n",
      "  File \"/opt/conda/lib/python3.7/abc.py\", line 139, in __instancecheck__\n",
      "    return _abc_instancecheck(cls, instance)\n",
      "KeyboardInterrupt\n",
      "\n",
      "During handling of the above exception, another exception occurred:\n",
      "\n",
      "Traceback (most recent call last):\n",
      "  File \"/opt/conda/lib/python3.7/site-packages/IPython/core/interactiveshell.py\", line 2040, in showtraceback\n",
      "    stb = value._render_traceback_()\n",
      "AttributeError: 'KeyboardInterrupt' object has no attribute '_render_traceback_'\n",
      "\n",
      "During handling of the above exception, another exception occurred:\n",
      "\n",
      "Traceback (most recent call last):\n",
      "  File \"/opt/conda/lib/python3.7/site-packages/IPython/core/ultratb.py\", line 1101, in get_records\n",
      "    return _fixed_getinnerframes(etb, number_of_lines_of_context, tb_offset)\n",
      "  File \"/opt/conda/lib/python3.7/site-packages/IPython/core/ultratb.py\", line 319, in wrapped\n",
      "    return f(*args, **kwargs)\n",
      "  File \"/opt/conda/lib/python3.7/site-packages/IPython/core/ultratb.py\", line 353, in _fixed_getinnerframes\n",
      "    records = fix_frame_records_filenames(inspect.getinnerframes(etb, context))\n",
      "  File \"/opt/conda/lib/python3.7/inspect.py\", line 1502, in getinnerframes\n",
      "    frameinfo = (tb.tb_frame,) + getframeinfo(tb, context)\n",
      "  File \"/opt/conda/lib/python3.7/inspect.py\", line 1460, in getframeinfo\n",
      "    filename = getsourcefile(frame) or getfile(frame)\n",
      "  File \"/opt/conda/lib/python3.7/inspect.py\", line 696, in getsourcefile\n",
      "    if getattr(getmodule(object, filename), '__loader__', None) is not None:\n",
      "  File \"/opt/conda/lib/python3.7/inspect.py\", line 733, in getmodule\n",
      "    if ismodule(module) and hasattr(module, '__file__'):\n",
      "  File \"/opt/conda/lib/python3.7/site-packages/tensorflow/__init__.py\", line 50, in __getattr__\n",
      "    module = self._load()\n",
      "  File \"/opt/conda/lib/python3.7/site-packages/tensorflow/__init__.py\", line 44, in _load\n",
      "    module = _importlib.import_module(self.__name__)\n",
      "  File \"/opt/conda/lib/python3.7/importlib/__init__.py\", line 127, in import_module\n",
      "    return _bootstrap._gcd_import(name[level:], package, level)\n",
      "  File \"<frozen importlib._bootstrap>\", line 1006, in _gcd_import\n",
      "  File \"<frozen importlib._bootstrap>\", line 983, in _find_and_load\n",
      "  File \"<frozen importlib._bootstrap>\", line 967, in _find_and_load_unlocked\n",
      "  File \"<frozen importlib._bootstrap>\", line 677, in _load_unlocked\n",
      "  File \"<frozen importlib._bootstrap_external>\", line 728, in exec_module\n",
      "  File \"<frozen importlib._bootstrap>\", line 219, in _call_with_frames_removed\n",
      "  File \"/opt/conda/lib/python3.7/site-packages/tensorflow_core/contrib/__init__.py\", line 54, in <module>\n",
      "    from tensorflow.contrib import gan\n",
      "  File \"/opt/conda/lib/python3.7/site-packages/tensorflow_core/contrib/gan/__init__.py\", line 28, in <module>\n",
      "    from tensorflow.contrib.gan.python import estimator\n",
      "  File \"/opt/conda/lib/python3.7/site-packages/tensorflow_core/contrib/gan/__init__.py\", line 28, in <module>\n",
      "    from tensorflow.contrib.gan.python import estimator\n",
      "  File \"/opt/conda/lib/python3.7/site-packages/tensorflow_core/contrib/gan/python/estimator/__init__.py\", line 27, in <module>\n",
      "    from tensorflow.contrib.gan.python.estimator.python import gan_estimator\n",
      "  File \"/opt/conda/lib/python3.7/site-packages/tensorflow_core/contrib/gan/python/estimator/python/gan_estimator.py\", line 21, in <module>\n",
      "    from tensorflow.contrib.gan.python.estimator.python import gan_estimator_impl\n",
      "  File \"/opt/conda/lib/python3.7/site-packages/tensorflow_core/contrib/gan/python/estimator/python/gan_estimator_impl.py\", line 26, in <module>\n",
      "    from tensorflow.contrib.gan.python import train as tfgan_train\n",
      "  File \"/opt/conda/lib/python3.7/site-packages/tensorflow_core/contrib/gan/python/train.py\", line 38, in <module>\n",
      "    from tensorflow.contrib.slim.python.slim import learning as slim_learning\n",
      "  File \"/opt/conda/lib/python3.7/site-packages/tensorflow_core/contrib/slim/__init__.py\", line 37, in <module>\n",
      "    from tensorflow.contrib.slim.python.slim import summaries\n",
      "  File \"/opt/conda/lib/python3.7/site-packages/tensorflow_core/contrib/slim/python/slim/summaries.py\", line 31, in <module>\n",
      "    \"\"\"\n",
      "KeyboardInterrupt\n"
     ]
    },
    {
     "ename": "KeyboardInterrupt",
     "evalue": "",
     "output_type": "error",
     "traceback": [
      "\u001b[0;31m---------------------------------------------------------------------------\u001b[0m"
     ]
    }
   ],
   "source": [
    "## DNN model utilizing TF's Keras API\n",
    "model = keras.models.Sequential()\n",
    "model.add(keras.layers.InputLayer(input_shape=X.shape[1:]))\n",
    "model.add(keras.layers.Dense(128, activation='sigmoid'))\n",
    "model.add(keras.layers.Dense(128, activation='sigmoid'))\n",
    "model.add(keras.layers.Dense(1, activation='sigmoid'))\n",
    "model.compile(optimizer='adam',\n",
    "              loss='binary_crossentropy')\n",
    "model.summary()\n",
    "model.fit(X_train, y_train, epochs=36, batch_size=1, validation_split=0.2)\n",
    "Y_pred = model.predict_classes(X_test)\n",
    "\n",
    "## Metrics - \n",
    "print('\\nPrecision score: {:.4f}'.format(precision_score(y_test, Y_pred)))\n",
    "print('Recall score: {:.4f}'.format(recall_score(y_test, Y_pred)))\n",
    "print('Accuracy score: {:.4f}'.format(accuracy_score(y_test, Y_pred)))\n",
    "print('F1 score: {:.4f}'.format(f1_score(y_test, Y_pred)))\n",
    "\n",
    "print('\\nClassification accuracy report:')\n",
    "print(classification_report(y_test, Y_pred))\n",
    "print('\\nConfusion matrix:')\n",
    "print(confusion_matrix(y_test, Y_pred))\n",
    "\n",
    "## Creating an ROC/AUC curve to visualize performance. \n",
    "classification_probs = model.predict_proba(X_test)\n",
    "classification_AUC = roc_auc_score(y_test, classification_probs)  \n",
    "print(\"\\nAUC Index: {:.3f}\".format(classification_AUC))\n",
    "fpr, tpr, threshold = roc_curve(y_test,  classification_probs)\n",
    "plt.plot(fpr,tpr,label=\"auc=\"+str(classification_AUC))\n",
    "plt.legend(loc=5)\n",
    "plt.ylabel('Recall')\n",
    "plt.xlabel('1-specificity')\n",
    "plt.title('ROC Curve')\n",
    "plt.show()"
   ]
  },
  {
   "cell_type": "code",
   "execution_count": 23,
   "metadata": {},
   "outputs": [
    {
     "name": "stdout",
     "output_type": "stream",
     "text": [
      "Best Parameters: {'max_depth': 1, 'max_leaf_nodes': 2, 'min_samples_split': 2}\n",
      "\n",
      "Precision score: 0.8667\n",
      "Recall score: 0.8540\n",
      "Accuracy score: 0.8618\n",
      "F1 score: 0.8603\n",
      "\n",
      "AUC Index: 0.8617899079657252\n"
     ]
    },
    {
     "data": {
      "image/png": "[encoded data removed]",
      "text/plain": [
       "<Figure size 432x288 with 1 Axes>"
      ]
     },
     "metadata": {
      "needs_background": "light"
     },
     "output_type": "display_data"
    }
   ],
   "source": [
    "## Tuning hyperparameters of tree - cross-validated grid-search over a parameter grid.\n",
    "optimized_tree = DecisionTreeClassifier()\n",
    "params = {\"max_depth\": range(1,10),\n",
    "           \"min_samples_split\": range(2,10,1),\n",
    "           \"max_leaf_nodes\": range(2,5)}\n",
    "\n",
    "opt_tree = GridSearchCV(optimized_tree, params, cv=5) ##  folds in stratified k-fold. \n",
    "opt_tree.fit(X_train,y_train)\n",
    "print(\"Best Parameters:\", opt_tree.best_params_)\n",
    "\n",
    "## Grid Search Tree Metrics\n",
    "grid_tree_y_pred = opt_tree.predict(X_test)\n",
    "grid_tree_probs = opt_tree.predict_proba(X_test)\n",
    "grid_tree_AUC = roc_auc_score(y_test, grid_tree_probs[:, 1])  ## Probability here just like lecture notes.\n",
    "\n",
    "print('\\nPrecision score: {:.4f}'.format(precision_score(y_test, grid_tree_y_pred)))\n",
    "print('Recall score: {:.4f}'.format(recall_score(y_test, grid_tree_y_pred)))\n",
    "print('Accuracy score: {:.4f}'.format(accuracy_score(y_test, grid_tree_y_pred)))\n",
    "print('F1 score: {:.4f}'.format(f1_score(y_test, grid_tree_y_pred)))\n",
    "\n",
    "print(\"\\nAUC Index:\", grid_tree_AUC)\n",
    "fpr, tpr, threshold = roc_curve(y_test,  grid_tree_probs[:, 1])\n",
    "plt.plot(fpr,tpr,label=\"auc=\"+str(grid_tree_AUC))\n",
    "plt.legend(loc=5)\n",
    "plt.ylabel('Recall')\n",
    "plt.xlabel('1-specificity')\n",
    "plt.title('ROC Curve')\n",
    "plt.show() "
   ]
  },
  {
   "cell_type": "code",
   "execution_count": 32,
   "metadata": {},
   "outputs": [
    {
     "name": "stderr",
     "output_type": "stream",
     "text": [
      "/opt/conda/lib/python3.7/site-packages/sklearn/model_selection/_split.py:2053: FutureWarning: You should specify a value for 'cv' instead of relying on the default value. The default value will change from 3 to 5 in version 0.22.\n",
      "  warnings.warn(CV_WARNING, FutureWarning)\n"
     ]
    },
    {
     "name": "stdout",
     "output_type": "stream",
     "text": [
      "Best Parameters: {'max_depth': 3, 'max_leaf_nodes': 3, 'min_samples_split': 4}\n",
      "Precision score: 0.8429\n",
      "Recall score: 0.8551\n",
      "Accuracy score: 0.8473\n",
      "F1 score: 0.8489\n",
      "\n",
      "AUC Index: 0.9121707394477944\n"
     ]
    },
    {
     "data": {
      "image/png": "[encoded data removed]",
      "text/plain": [
       "<Figure size 432x288 with 1 Axes>"
      ]
     },
     "metadata": {
      "needs_background": "light"
     },
     "output_type": "display_data"
    }
   ],
   "source": [
    "## Random Forest - cross-validated grid-search over a parameter grid.\n",
    "rf = RandomForestClassifier(n_estimators=100, n_jobs=-1, bootstrap=True)\n",
    "params = {\"max_depth\": range(1,10),\n",
    "           \"min_samples_split\": range(2,10,1),\n",
    "           \"max_leaf_nodes\": range(2,5)}\n",
    "\n",
    "opt_rf = GridSearchCV(rf, params)\n",
    "opt_rf.fit(X_train,y_train)\n",
    "print(\"Best Parameters:\", opt_rf.best_params_)\n",
    "\n",
    "rf_y_pred = opt_rf.predict(X_test)\n",
    "rf_probs = opt_rf.predict_proba(X_test)\n",
    "\n",
    "## Metrics\n",
    "print('Precision score: {:.4f}'.format(precision_score(y_test,rf_y_pred)))\n",
    "print('Recall score: {:.4f}'.format(recall_score(y_test,rf_y_pred)))\n",
    "print('Accuracy score: {:.4f}'.format(accuracy_score(y_test,rf_y_pred)))\n",
    "print('F1 score: {:.4f}'.format(f1_score(y_test,rf_y_pred)))\n",
    "\n",
    "rf_AUC = roc_auc_score(y_test, rf_probs[:, 1])  \n",
    "print(\"\\nAUC Index:\", rf_AUC)\n",
    "fpr, tpr, threshold = roc_curve(y_test,  rf_probs[:, 1])  \n",
    "plt.plot(fpr,tpr,label=\"auc=\"+str(rf_AUC))\n",
    "plt.legend(loc=5)\n",
    "plt.ylabel('Recall')\n",
    "plt.xlabel('1-specificity')\n",
    "plt.title('ROC Curve')\n",
    "plt.show()"
   ]
  },
  {
   "cell_type": "code",
   "execution_count": 42,
   "metadata": {},
   "outputs": [
    {
     "name": "stdout",
     "output_type": "stream",
     "text": [
      "Precision score: 0.8873\n",
      "Recall score: 0.9130\n",
      "Accuracy score: 0.8982\n",
      "F1 score: 0.9000\n",
      "\n",
      "AUC Index: 0.9636094361578333\n"
     ]
    },
    {
     "name": "stderr",
     "output_type": "stream",
     "text": [
      "/opt/conda/lib/python3.7/site-packages/sklearn/linear_model/logistic.py:433: FutureWarning: Default solver will be changed to 'lbfgs' in 0.22. Specify a solver to silence this warning.\n",
      "  FutureWarning)\n"
     ]
    },
    {
     "data": {
      "image/png": "[encoded data removed]",
      "text/plain": [
       "<Figure size 432x288 with 1 Axes>"
      ]
     },
     "metadata": {
      "needs_background": "light"
     },
     "output_type": "display_data"
    }
   ],
   "source": [
    "## Logistic Regression\n",
    "log_regression = LogisticRegression().fit(X_train, y_train)\n",
    "logistic_y_pred = log_regression.predict(X_test)\n",
    "log_probs = log_regression.predict_proba(X_test)\n",
    "\n",
    "## Metrics\n",
    "print('Precision score: {:.4f}'.format(precision_score(y_test,logistic_y_pred)))\n",
    "print('Recall score: {:.4f}'.format(recall_score(y_test,logistic_y_pred)))\n",
    "print('Accuracy score: {:.4f}'.format(accuracy_score(y_test,logistic_y_pred)))\n",
    "print('F1 score: {:.4f}'.format(f1_score(y_test,logistic_y_pred)))\n",
    "\n",
    "log_AUC = roc_auc_score(y_test, log_probs[:, 1])\n",
    "print(\"\\nAUC Index:\", log_AUC)\n",
    "fpr, tpr, threshold = roc_curve(y_test,  log_probs[:, 1])\n",
    "plt.plot(fpr,tpr,label=\"auc=\"+str(log_AUC))\n",
    "plt.legend(loc=5)\n",
    "plt.ylabel('Recall')\n",
    "plt.xlabel('1-specificity')\n",
    "plt.title('ROC Curve')\n",
    "plt.show()"
   ]
  },
  {
   "cell_type": "code",
   "execution_count": null,
   "metadata": {},
   "outputs": [],
   "source": []
  }
 ],
 "metadata": {
  "kernelspec": {
   "display_name": "Python 3",
   "language": "python",
   "name": "python3"
  },
  "language_info": {
   "codemirror_mode": {
    "name": "ipython",
    "version": 3
   },
   "file_extension": ".py",
   "mimetype": "text/x-python",
   "name": "python",
   "nbconvert_exporter": "python",
   "pygments_lexer": "ipython3",
   "version": "3.7.3"
  }
 },
 "nbformat": 4,
 "nbformat_minor": 4
}
