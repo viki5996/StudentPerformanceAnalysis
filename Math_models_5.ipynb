{
 "cells": [
  {
   "cell_type": "code",
   "execution_count": 1,
   "metadata": {},
   "outputs": [
    {
     "name": "stderr",
     "output_type": "stream",
     "text": [
      "Using TensorFlow backend.\n"
     ]
    }
   ],
   "source": [
    "import numpy as np\n",
    "import pandas as pd\n",
    "from sklearn import preprocessing\n",
    "from tensorflow import keras\n",
    "import matplotlib.pyplot as plt\n",
    "from keras.models import Sequential\n",
    "from keras import optimizers\n",
    "import keras.utils as ker\n",
    "import numpy as np\n",
    "from sklearn.model_selection import train_test_split\n",
    "from sklearn.linear_model import LogisticRegression\n",
    "from keras.layers import Dense, InputLayer, Flatten, Dropout\n",
    "import tensorflow as tf\n",
    "from sklearn.metrics import classification_report, confusion_matrix, accuracy_score, roc_auc_score, roc_curve, precision_score, recall_score, accuracy_score, f1_score\n",
    "from sklearn.tree import DecisionTreeClassifier\n",
    "from sklearn.model_selection import GridSearchCV\n",
    "from sklearn.ensemble import RandomForestClassifier\n",
    "from sklearn.utils import resample"
   ]
  },
  {
   "cell_type": "code",
   "execution_count": 2,
   "metadata": {},
   "outputs": [],
   "source": [
    "## Read data from csv file 'student-mat.csv'\n",
    "math_data = pd.read_csv('encoded_math_data.csv')"
   ]
  },
  {
   "cell_type": "code",
   "execution_count": 3,
   "metadata": {},
   "outputs": [],
   "source": [
    "## Encoding Schools \n",
    "list_of_schools = []\n",
    "for i in math_data['school']:\n",
    "    if i == 'GP':\n",
    "        school = 1\n",
    "    else:\n",
    "        school = 0\n",
    "    list_of_schools.append(school)\n",
    "\n",
    "math_data['school'] = list_of_schools"
   ]
  },
  {
   "cell_type": "code",
   "execution_count": 4,
   "metadata": {},
   "outputs": [],
   "source": [
    "## One-hot encoding binary variables. \n",
    "school_one_hot = ker.to_categorical(math_data['school']).tolist()\n",
    "sex_one_hot = ker.to_categorical(math_data['sex']).tolist()\n",
    "address_one_hot = ker.to_categorical(math_data['address']).tolist()\n",
    "pstatus_one_hot = ker.to_categorical(math_data['Pstatus']).tolist()\n",
    "fedu_one_hot = ker.to_categorical(math_data['Fedu']).tolist()\n",
    "medu_one_hot = ker.to_categorical(math_data['Medu']).tolist()\n",
    "schoolsup_one_hot = ker.to_categorical(math_data['schoolsup']).tolist()\n",
    "famsup_one_hot = ker.to_categorical(math_data['famsup']).tolist()\n",
    "paid_one_hot = ker.to_categorical(math_data['paid']).tolist()\n",
    "activities_one_hot = ker.to_categorical(math_data['activities']).tolist()\n",
    "nursery_one_hot = ker.to_categorical(math_data['nursery']).tolist()\n",
    "higher_one_hot = ker.to_categorical(math_data['higher']).tolist()\n",
    "internet_one_hot = ker.to_categorical(math_data['internet']).tolist()\n",
    "romantic_one_hot = ker.to_categorical(math_data['romantic']).tolist()\n",
    "\n",
    "## Adding one-hot vectors to df\n",
    "math_data['school_one_hot'] = school_one_hot\n",
    "math_data['sex_one_hot'] = sex_one_hot\n",
    "math_data['address_one_hot'] = address_one_hot\n",
    "math_data['pstatus_one_hot'] = pstatus_one_hot\n",
    "math_data['fedu_one_hot'] = fedu_one_hot\n",
    "math_data['medu_one_hot'] = medu_one_hot\n",
    "math_data['schoolsup_one_hot'] = schoolsup_one_hot\n",
    "math_data['famsup_one_hot'] = famsup_one_hot\n",
    "math_data['paid_one_hot'] = paid_one_hot\n",
    "math_data['activities_one_hot'] = activities_one_hot\n",
    "math_data['nursery_one_hot'] = nursery_one_hot\n",
    "math_data['higher_one_hot'] = higher_one_hot\n",
    "math_data['internet_one_hot'] = internet_one_hot\n",
    "math_data['romantic_one_hot'] = romantic_one_hot"
   ]
  },
  {
   "cell_type": "code",
   "execution_count": 5,
   "metadata": {},
   "outputs": [],
   "source": [
    "# Creating a new binary variable - 1 if student failed first grading period\n",
    "previous_grade_list = []\n",
    "for i in math_data['M1']:\n",
    "    if i < 9.5: # Fail\n",
    "        label = 1\n",
    "    else: # Pass\n",
    "        label = 0\n",
    "    previous_grade_list.append(label)\n",
    "math_data['previous_pass_fail'] = previous_grade_list"
   ]
  },
  {
   "cell_type": "code",
   "execution_count": 6,
   "metadata": {},
   "outputs": [],
   "source": [
    "## Creating labels - Pass(0) or Fail(1)\n",
    "list_of_labels = []\n",
    "for i in math_data['M3']:\n",
    "    if i < 9.5: # Fail\n",
    "        label = 1\n",
    "    else: # Pass\n",
    "        label = 0\n",
    "    list_of_labels.append(label)\n",
    "math_data['label'] = list_of_labels"
   ]
  },
  {
   "cell_type": "code",
   "execution_count": 7,
   "metadata": {},
   "outputs": [
    {
     "data": {
      "text/plain": [
       "0    265\n",
       "1    130\n",
       "Name: label, dtype: int64"
      ]
     },
     "execution_count": 7,
     "metadata": {},
     "output_type": "execute_result"
    }
   ],
   "source": [
    "math_data['label'].value_counts()"
   ]
  },
  {
   "cell_type": "code",
   "execution_count": 8,
   "metadata": {},
   "outputs": [
    {
     "data": {
      "text/plain": [
       "1    265\n",
       "0    265\n",
       "Name: label, dtype: int64"
      ]
     },
     "execution_count": 8,
     "metadata": {},
     "output_type": "execute_result"
    }
   ],
   "source": [
    "## Upsample the minority class to deal with the skewed dataset. \n",
    "math_data_maj = math_data[math_data['label']==0]\n",
    "math_data_min = math_data[math_data['label']==1]\n",
    "math_data_min_upsampled = resample(math_data_min, replace=True, n_samples=265)    \n",
    "math_data_balanced = pd.concat([math_data_maj, math_data_min_upsampled])\n",
    "math_data_balanced['label'].value_counts()"
   ]
  },
  {
   "cell_type": "code",
   "execution_count": 9,
   "metadata": {},
   "outputs": [],
   "source": [
    "math_data_balanced = math_data_balanced.reset_index(drop=True)"
   ]
  },
  {
   "cell_type": "code",
   "execution_count": 10,
   "metadata": {},
   "outputs": [],
   "source": [
    "balanced_math_data = math_data_balanced.drop(math_data_balanced.columns[[0]], axis=1)"
   ]
  },
  {
   "cell_type": "code",
   "execution_count": 11,
   "metadata": {},
   "outputs": [],
   "source": [
    "## Creating input vector (X)\n",
    "X = []\n",
    "for i in range(0, len(balanced_math_data)):\n",
    "    x = []\n",
    "#    x.append(balanced_math_data['age'][i])\n",
    "    x.append(balanced_math_data['Medu'][i])\n",
    "    x.append(balanced_math_data['Fedu'][i])\n",
    "#    x.append(balanced_math_data['both_parents_college'][i])\n",
    "#    x.append(balanced_math_data['studytime'][i])\n",
    "#    x.append(balanced_math_data['famrel'][i])\n",
    "#    x.append(balanced_math_data['freetime'][i])\n",
    "    x.append(balanced_math_data['goout'][i])\n",
    "    x.append(balanced_math_data['Dalc'][i])\n",
    "    x.append(balanced_math_data['Walc'][i])\n",
    "#    x.append(balanced_math_data['health'][i])\n",
    "#    x.append(balanced_math_data['m_absences'][i])\n",
    "    x.append(balanced_math_data['failures'][i])\n",
    "    \n",
    "#    x.extend(balanced_math_data['sex_one_hot'][i])\n",
    "#    x.extend(balanced_math_data['address_one_hot'][i])\n",
    "#    x.extend(balanced_math_data['pstatus_one_hot'][i])\n",
    "#    x.extend(balanced_math_data['schoolsup_one_hot'][i])\n",
    "#    x.extend(balanced_math_data['famsup_one_hot'][i])\n",
    "    x.extend(balanced_math_data['paid_one_hot'][i])\n",
    "#    x.extend(balanced_math_data['activities_one_hot'][i])\n",
    "#    x.extend(balanced_math_data['nursery_one_hot'][i])\n",
    "#    x.extend(balanced_math_data['school_one_hot'][i])\n",
    "    x.extend(balanced_math_data['higher_one_hot'][i])\n",
    "    x.extend(balanced_math_data['internet_one_hot'][i])\n",
    "    x.extend(balanced_math_data['romantic_one_hot'][i])\n",
    "    x.append(balanced_math_data['previous_pass_fail'][i])\n",
    "    x.append(balanced_math_data['M1'][i])\n",
    "    X.append(x)"
   ]
  },
  {
   "cell_type": "code",
   "execution_count": 12,
   "metadata": {},
   "outputs": [],
   "source": [
    "Y = np.array(balanced_math_data['label'])\n",
    "X = np.array(X)"
   ]
  },
  {
   "cell_type": "code",
   "execution_count": 47,
   "metadata": {},
   "outputs": [],
   "source": [
    "## split dataset into train-test.\n",
    "X_train, X_test, y_train, y_test = train_test_split(X, Y, test_size=0.25, stratify=Y)"
   ]
  },
  {
   "cell_type": "code",
   "execution_count": 14,
   "metadata": {},
   "outputs": [
    {
     "data": {
      "text/plain": [
       "(16,)"
      ]
     },
     "execution_count": 14,
     "metadata": {},
     "output_type": "execute_result"
    }
   ],
   "source": [
    "X.shape[1:]"
   ]
  },
  {
   "cell_type": "code",
   "execution_count": 15,
   "metadata": {},
   "outputs": [
    {
     "data": {
      "text/plain": [
       "array([ 3.,  2.,  2.,  1.,  1.,  0.,  0.,  1.,  0.,  1.,  0.,  1.,  1.,\n",
       "        0.,  0., 14.])"
      ]
     },
     "execution_count": 15,
     "metadata": {},
     "output_type": "execute_result"
    }
   ],
   "source": [
    "X_train[0]"
   ]
  },
  {
   "cell_type": "code",
   "execution_count": 16,
   "metadata": {},
   "outputs": [
    {
     "name": "stdout",
     "output_type": "stream",
     "text": [
      "WARNING:tensorflow:From /opt/conda/lib/python3.7/site-packages/tensorflow_core/python/ops/resource_variable_ops.py:1628: calling BaseResourceVariable.__init__ (from tensorflow.python.ops.resource_variable_ops) with constraint is deprecated and will be removed in a future version.\n",
      "Instructions for updating:\n",
      "If using Keras pass *_constraint arguments to layers.\n",
      "WARNING:tensorflow:From /opt/conda/lib/python3.7/site-packages/tensorflow_core/python/ops/nn_impl.py:183: where (from tensorflow.python.ops.array_ops) is deprecated and will be removed in a future version.\n",
      "Instructions for updating:\n",
      "Use tf.where in 2.0, which has the same broadcast rule as np.where\n",
      "Model: \"sequential\"\n",
      "_________________________________________________________________\n",
      "Layer (type)                 Output Shape              Param #   \n",
      "=================================================================\n",
      "dense (Dense)                (None, 128)               2176      \n",
      "_________________________________________________________________\n",
      "dense_1 (Dense)              (None, 128)               16512     \n",
      "_________________________________________________________________\n",
      "dense_2 (Dense)              (None, 1)                 129       \n",
      "=================================================================\n",
      "Total params: 18,817\n",
      "Trainable params: 18,817\n",
      "Non-trainable params: 0\n",
      "_________________________________________________________________\n",
      "WARNING:tensorflow:From /opt/conda/lib/python3.7/site-packages/tensorflow_core/python/keras/optimizer_v2/optimizer_v2.py:460: BaseResourceVariable.constraint (from tensorflow.python.ops.resource_variable_ops) is deprecated and will be removed in a future version.\n",
      "Instructions for updating:\n",
      "Apply a constraint manually following the optimizer update step.\n",
      "Train on 317 samples, validate on 80 samples\n",
      "Epoch 1/36\n",
      "317/317 [==============================] - 1s 2ms/sample - loss: 0.5627 - val_loss: 0.4635\n",
      "Epoch 2/36\n",
      "317/317 [==============================] - 1s 2ms/sample - loss: 0.3852 - val_loss: 0.4482\n",
      "Epoch 3/36\n",
      "317/317 [==============================] - 1s 2ms/sample - loss: 0.3370 - val_loss: 0.5854\n",
      "Epoch 4/36\n",
      "317/317 [==============================] - 1s 2ms/sample - loss: 0.3440 - val_loss: 0.4768\n",
      "Epoch 5/36\n",
      "317/317 [==============================] - 1s 2ms/sample - loss: 0.3426 - val_loss: 0.4928\n",
      "Epoch 6/36\n",
      "317/317 [==============================] - 1s 2ms/sample - loss: 0.3334 - val_loss: 0.4799\n",
      "Epoch 7/36\n",
      "317/317 [==============================] - 1s 2ms/sample - loss: 0.3312 - val_loss: 0.4940\n",
      "Epoch 8/36\n",
      "317/317 [==============================] - 1s 2ms/sample - loss: 0.3316 - val_loss: 0.4912\n",
      "Epoch 9/36\n",
      "317/317 [==============================] - 1s 2ms/sample - loss: 0.3324 - val_loss: 0.5050\n",
      "Epoch 10/36\n",
      "317/317 [==============================] - 1s 2ms/sample - loss: 0.3260 - val_loss: 0.4934\n",
      "Epoch 11/36\n",
      "317/317 [==============================] - 1s 2ms/sample - loss: 0.3231 - val_loss: 0.5045\n",
      "Epoch 12/36\n",
      "317/317 [==============================] - 1s 2ms/sample - loss: 0.3076 - val_loss: 0.5042\n",
      "Epoch 13/36\n",
      "317/317 [==============================] - 1s 2ms/sample - loss: 0.3033 - val_loss: 0.5136\n",
      "Epoch 14/36\n",
      "317/317 [==============================] - 1s 2ms/sample - loss: 0.3151 - val_loss: 0.4786\n",
      "Epoch 15/36\n",
      "317/317 [==============================] - 1s 2ms/sample - loss: 0.3105 - val_loss: 0.5101\n",
      "Epoch 16/36\n",
      "317/317 [==============================] - 1s 2ms/sample - loss: 0.2960 - val_loss: 0.4789\n",
      "Epoch 17/36\n",
      "317/317 [==============================] - 1s 2ms/sample - loss: 0.3121 - val_loss: 0.4739\n",
      "Epoch 18/36\n",
      "317/317 [==============================] - 1s 2ms/sample - loss: 0.3047 - val_loss: 0.5283\n",
      "Epoch 19/36\n",
      "317/317 [==============================] - 1s 2ms/sample - loss: 0.3022 - val_loss: 0.4994\n",
      "Epoch 20/36\n",
      "317/317 [==============================] - 1s 2ms/sample - loss: 0.3001 - val_loss: 0.5151\n",
      "Epoch 21/36\n",
      "317/317 [==============================] - 1s 2ms/sample - loss: 0.2766 - val_loss: 0.4916\n",
      "Epoch 22/36\n",
      "317/317 [==============================] - 1s 2ms/sample - loss: 0.2966 - val_loss: 0.4903\n",
      "Epoch 23/36\n",
      "317/317 [==============================] - 1s 2ms/sample - loss: 0.2886 - val_loss: 0.4862\n",
      "Epoch 24/36\n",
      "317/317 [==============================] - 1s 2ms/sample - loss: 0.2849 - val_loss: 0.5587\n",
      "Epoch 25/36\n",
      "317/317 [==============================] - 1s 2ms/sample - loss: 0.3142 - val_loss: 0.4742\n",
      "Epoch 26/36\n",
      "317/317 [==============================] - 1s 2ms/sample - loss: 0.2890 - val_loss: 0.4861\n",
      "Epoch 27/36\n",
      "317/317 [==============================] - 1s 2ms/sample - loss: 0.2829 - val_loss: 0.4785\n",
      "Epoch 28/36\n",
      "317/317 [==============================] - 1s 2ms/sample - loss: 0.2870 - val_loss: 0.4781\n",
      "Epoch 29/36\n",
      "317/317 [==============================] - 1s 2ms/sample - loss: 0.2876 - val_loss: 0.5133\n",
      "Epoch 30/36\n",
      "317/317 [==============================] - 1s 2ms/sample - loss: 0.2795 - val_loss: 0.4935\n",
      "Epoch 31/36\n",
      "317/317 [==============================] - 1s 2ms/sample - loss: 0.2866 - val_loss: 0.4870\n",
      "Epoch 32/36\n",
      "317/317 [==============================] - 1s 2ms/sample - loss: 0.2685 - val_loss: 0.4974\n",
      "Epoch 33/36\n",
      "317/317 [==============================] - 1s 2ms/sample - loss: 0.2769 - val_loss: 0.4997\n",
      "Epoch 34/36\n",
      "317/317 [==============================] - 1s 2ms/sample - loss: 0.2849 - val_loss: 0.4898\n",
      "Epoch 35/36\n",
      "317/317 [==============================] - 1s 2ms/sample - loss: 0.2666 - val_loss: 0.5010\n",
      "Epoch 36/36\n",
      "317/317 [==============================] - 1s 2ms/sample - loss: 0.2727 - val_loss: 0.4951\n",
      "\n",
      "Precision score: 0.8267\n",
      "Recall score: 0.9394\n",
      "Accuracy score: 0.8722\n",
      "F1 score: 0.8794\n",
      "\n",
      "Classification accuracy report:\n",
      "              precision    recall  f1-score   support\n",
      "\n",
      "           0       0.93      0.81      0.86        67\n",
      "           1       0.83      0.94      0.88        66\n",
      "\n",
      "   micro avg       0.87      0.87      0.87       133\n",
      "   macro avg       0.88      0.87      0.87       133\n",
      "weighted avg       0.88      0.87      0.87       133\n",
      "\n",
      "\n",
      "Confusion matrix:\n",
      "[[54 13]\n",
      " [ 4 62]]\n",
      "\n",
      "AUC Index: 0.952\n"
     ]
    },
    {
     "data": {
      "image/png": "[encoded data removed]",
      "text/plain": [
       "<Figure size 432x288 with 1 Axes>"
      ]
     },
     "metadata": {
      "needs_background": "light"
     },
     "output_type": "display_data"
    }
   ],
   "source": [
    "## DNN model utilizing TF's Keras API\n",
    "model = keras.models.Sequential()\n",
    "model.add(keras.layers.InputLayer(input_shape=X.shape[1:]))\n",
    "model.add(keras.layers.Dense(128, activation='sigmoid'))\n",
    "model.add(keras.layers.Dense(128, activation='sigmoid'))\n",
    "model.add(keras.layers.Dense(1, activation='sigmoid'))\n",
    "model.compile(optimizer='adam',\n",
    "              loss='binary_crossentropy')\n",
    "model.summary()\n",
    "model.fit(X_train, y_train, epochs=36, batch_size=1, validation_split=0.2)\n",
    "Y_pred = model.predict_classes(X_test)\n",
    "\n",
    "## Metrics - \n",
    "print('\\nPrecision score: {:.4f}'.format(precision_score(y_test, Y_pred)))\n",
    "print('Recall score: {:.4f}'.format(recall_score(y_test, Y_pred)))\n",
    "print('Accuracy score: {:.4f}'.format(accuracy_score(y_test, Y_pred)))\n",
    "print('F1 score: {:.4f}'.format(f1_score(y_test, Y_pred)))\n",
    "\n",
    "print('\\nClassification accuracy report:')\n",
    "print(classification_report(y_test, Y_pred))\n",
    "print('\\nConfusion matrix:')\n",
    "print(confusion_matrix(y_test, Y_pred))\n",
    "\n",
    "## Creating an ROC/AUC curve to visualize performance. \n",
    "classification_probs = model.predict_proba(X_test)\n",
    "classification_AUC = roc_auc_score(y_test, classification_probs)  \n",
    "print(\"\\nAUC Index: {:.3f}\".format(classification_AUC))\n",
    "fpr, tpr, threshold = roc_curve(y_test,  classification_probs)\n",
    "plt.plot(fpr,tpr,label=\"auc=\"+str(classification_AUC))\n",
    "plt.legend(loc=5)\n",
    "plt.ylabel('Recall')\n",
    "plt.xlabel('1-specificity')\n",
    "plt.title('ROC Curve')\n",
    "plt.show()"
   ]
  },
  {
   "cell_type": "code",
   "execution_count": 27,
   "metadata": {},
   "outputs": [
    {
     "name": "stdout",
     "output_type": "stream",
     "text": [
      "Best Parameters: {'max_depth': 1, 'max_leaf_nodes': 2, 'min_samples_split': 2}\n",
      "\n",
      "Precision score: 0.8049\n",
      "Recall score: 0.9851\n",
      "Accuracy score: 0.8722\n",
      "F1 score: 0.8859\n",
      "\n",
      "AUC Index: 0.8713251922207146\n"
     ]
    },
    {
     "data": {
      "image/png": "[encoded data removed]",
      "text/plain": [
       "<Figure size 432x288 with 1 Axes>"
      ]
     },
     "metadata": {
      "needs_background": "light"
     },
     "output_type": "display_data"
    }
   ],
   "source": [
    "## Tuning hyperparameters of tree - cross-validated grid-search over a parameter grid.\n",
    "optimized_tree = DecisionTreeClassifier()\n",
    "params = {\"max_depth\": range(1,10),\n",
    "           \"min_samples_split\": range(2,10,1),\n",
    "           \"max_leaf_nodes\": range(2,5)}\n",
    "\n",
    "opt_tree = GridSearchCV(optimized_tree, params, cv=5) ##  folds in stratified k-fold. \n",
    "opt_tree.fit(X_train,y_train)\n",
    "print(\"Best Parameters:\", opt_tree.best_params_)\n",
    "\n",
    "## Grid Search Tree Metrics\n",
    "grid_tree_y_pred = opt_tree.predict(X_test)\n",
    "grid_tree_probs = opt_tree.predict_proba(X_test)\n",
    "grid_tree_AUC = roc_auc_score(y_test, grid_tree_probs[:, 1])  ## Probability here just like lecture notes.\n",
    "\n",
    "print('\\nPrecision score: {:.4f}'.format(precision_score(y_test, grid_tree_y_pred)))\n",
    "print('Recall score: {:.4f}'.format(recall_score(y_test, grid_tree_y_pred)))\n",
    "print('Accuracy score: {:.4f}'.format(accuracy_score(y_test, grid_tree_y_pred)))\n",
    "print('F1 score: {:.4f}'.format(f1_score(y_test, grid_tree_y_pred)))\n",
    "\n",
    "print(\"\\nAUC Index:\", grid_tree_AUC)\n",
    "fpr, tpr, threshold = roc_curve(y_test,  grid_tree_probs[:, 1])\n",
    "plt.plot(fpr,tpr,label=\"auc=\"+str(grid_tree_AUC))\n",
    "plt.legend(loc=5)\n",
    "plt.ylabel('Recall')\n",
    "plt.xlabel('1-specificity')\n",
    "plt.title('ROC Curve')\n",
    "plt.show() "
   ]
  },
  {
   "cell_type": "code",
   "execution_count": 38,
   "metadata": {},
   "outputs": [
    {
     "name": "stderr",
     "output_type": "stream",
     "text": [
      "/opt/conda/lib/python3.7/site-packages/sklearn/model_selection/_split.py:2053: FutureWarning: You should specify a value for 'cv' instead of relying on the default value. The default value will change from 3 to 5 in version 0.22.\n",
      "  warnings.warn(CV_WARNING, FutureWarning)\n"
     ]
    },
    {
     "name": "stdout",
     "output_type": "stream",
     "text": [
      "Best Parameters: {'max_depth': 8, 'max_leaf_nodes': 2, 'min_samples_split': 2}\n",
      "Precision score: 0.7733\n",
      "Recall score: 0.8788\n",
      "Accuracy score: 0.8120\n",
      "F1 score: 0.8227\n",
      "\n",
      "AUC Index: 0.8772048846675712\n"
     ]
    },
    {
     "data": {
      "image/png": "[encoded data removed]",
      "text/plain": [
       "<Figure size 432x288 with 1 Axes>"
      ]
     },
     "metadata": {
      "needs_background": "light"
     },
     "output_type": "display_data"
    }
   ],
   "source": [
    "## Random Forest - cross-validated grid-search over a parameter grid.\n",
    "rf = RandomForestClassifier(n_estimators=100, n_jobs=-1, bootstrap=True)\n",
    "params = {\"max_depth\": range(1,10),\n",
    "           \"min_samples_split\": range(2,10,1),\n",
    "           \"max_leaf_nodes\": range(2,5)}\n",
    "\n",
    "opt_rf = GridSearchCV(rf, params)\n",
    "opt_rf.fit(X_train,y_train)\n",
    "print(\"Best Parameters:\", opt_rf.best_params_)\n",
    "\n",
    "rf_y_pred = opt_rf.predict(X_test)\n",
    "rf_probs = opt_rf.predict_proba(X_test)\n",
    "\n",
    "## Metrics\n",
    "print('Precision score: {:.4f}'.format(precision_score(y_test,rf_y_pred)))\n",
    "print('Recall score: {:.4f}'.format(recall_score(y_test,rf_y_pred)))\n",
    "print('Accuracy score: {:.4f}'.format(accuracy_score(y_test,rf_y_pred)))\n",
    "print('F1 score: {:.4f}'.format(f1_score(y_test,rf_y_pred)))\n",
    "\n",
    "rf_AUC = roc_auc_score(y_test, rf_probs[:, 1])  \n",
    "print(\"\\nAUC Index:\", rf_AUC)\n",
    "fpr, tpr, threshold = roc_curve(y_test,  rf_probs[:, 1])  \n",
    "plt.plot(fpr,tpr,label=\"auc=\"+str(rf_AUC))\n",
    "plt.legend(loc=5)\n",
    "plt.ylabel('Recall')\n",
    "plt.xlabel('1-specificity')\n",
    "plt.title('ROC Curve')\n",
    "plt.show()"
   ]
  },
  {
   "cell_type": "code",
   "execution_count": 48,
   "metadata": {},
   "outputs": [
    {
     "name": "stdout",
     "output_type": "stream",
     "text": [
      "Precision score: 0.8308\n",
      "Recall score: 0.8182\n",
      "Accuracy score: 0.8271\n",
      "F1 score: 0.8244\n",
      "\n",
      "AUC Index: 0.9122568973315243\n"
     ]
    },
    {
     "name": "stderr",
     "output_type": "stream",
     "text": [
      "/opt/conda/lib/python3.7/site-packages/sklearn/linear_model/logistic.py:433: FutureWarning: Default solver will be changed to 'lbfgs' in 0.22. Specify a solver to silence this warning.\n",
      "  FutureWarning)\n"
     ]
    },
    {
     "data": {
      "image/png": "[encoded data removed]",
      "text/plain": [
       "<Figure size 432x288 with 1 Axes>"
      ]
     },
     "metadata": {
      "needs_background": "light"
     },
     "output_type": "display_data"
    }
   ],
   "source": [
    "## Logistic Regression\n",
    "log_regression = LogisticRegression().fit(X_train, y_train)\n",
    "logistic_y_pred = log_regression.predict(X_test)\n",
    "log_probs = log_regression.predict_proba(X_test)\n",
    "\n",
    "## Metrics\n",
    "print('Precision score: {:.4f}'.format(precision_score(y_test,logistic_y_pred)))\n",
    "print('Recall score: {:.4f}'.format(recall_score(y_test,logistic_y_pred)))\n",
    "print('Accuracy score: {:.4f}'.format(accuracy_score(y_test,logistic_y_pred)))\n",
    "print('F1 score: {:.4f}'.format(f1_score(y_test,logistic_y_pred)))\n",
    "\n",
    "log_AUC = roc_auc_score(y_test, log_probs[:, 1])\n",
    "print(\"\\nAUC Index:\", log_AUC)\n",
    "fpr, tpr, threshold = roc_curve(y_test,  log_probs[:, 1])\n",
    "plt.plot(fpr,tpr,label=\"auc=\"+str(log_AUC))\n",
    "plt.legend(loc=5)\n",
    "plt.ylabel('Recall')\n",
    "plt.xlabel('1-specificity')\n",
    "plt.title('ROC Curve')\n",
    "plt.show()"
   ]
  }
 ],
 "metadata": {
  "kernelspec": {
   "display_name": "Python 3",
   "language": "python",
   "name": "python3"
  },
  "language_info": {
   "codemirror_mode": {
    "name": "ipython",
    "version": 3
   },
   "file_extension": ".py",
   "mimetype": "text/x-python",
   "name": "python",
   "nbconvert_exporter": "python",
   "pygments_lexer": "ipython3",
   "version": "3.7.3"
  }
 },
 "nbformat": 4,
 "nbformat_minor": 4
}
